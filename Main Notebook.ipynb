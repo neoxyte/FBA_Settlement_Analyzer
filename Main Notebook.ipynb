{
 "cells": [
  {
   "cell_type": "code",
   "execution_count": 1,
   "id": "4cc69f4c",
   "metadata": {},
   "outputs": [],
   "source": [
    "import pandas as pd"
   ]
  },
  {
   "cell_type": "code",
   "execution_count": 2,
   "id": "e775796f",
   "metadata": {},
   "outputs": [],
   "source": [
    "dtypes = {\n",
    "    \"settlement-id\": \"category\",\n",
    "    \"settlement-start-date\": \"category\",\n",
    "    \"settlement-end-date\": \"category\",\n",
    "    \"deposit-date\": \"category\",\n",
    "    \"total-amount\": \"category\",\n",
    "    \"currency\": \"category\",\n",
    "    \"transaction-type\": \"category\",\n",
    "    \"order-id\": \"category\",\n",
    "    \"merchant-order-id\": \"category\",\n",
    "    \"adjustment-id\": \"category\",\n",
    "    \"shipment-id\": \"category\",\n",
    "    \"marketplace-name\": \"category\",\n",
    "    \"amount-type\": \"category\",\n",
    "    \"amount-description\": \"category\",\n",
    "    \"amount\": \"float64\",\n",
    "    \"fulfillment-id\": \"category\",\n",
    "    \"posted-date\": \"category\",\n",
    "    \"posted-date-time\": \"category\",\n",
    "    \"order-item-code\": \"category\",\n",
    "    \"merchant-order-item-id\": \"category\",\n",
    "    \"merchant-adjustment-item-id\": \"category\",\n",
    "    \"sku\": \"category\",\n",
    "    \"quantity-purchased\": \"float64\",\n",
    "    \"promotion-id\": \"category\",\n",
    "}\n",
    "\n"
   ]
  },
  {
   "cell_type": "code",
   "execution_count": 7,
   "id": "f6bc44f3",
   "metadata": {},
   "outputs": [
    {
     "name": "stdout",
     "output_type": "stream",
     "text": [
      "{'settlement-id': 'category', 'settlement-start-date': 'category', 'settlement-end-date': 'category', 'deposit-date': 'category', 'total-amount': 'category', 'currency': 'category', 'order-id': 'category', 'merchant-order-id': 'category', 'adjustment-id': 'category', 'shipment-id': 'category', 'marketplace-name': 'category', 'amount-type': 'category', 'amount-description': 'category', 'amount': 'float64', 'fulfillment-id': 'category', 'posted-date': 'category', 'posted-date-time': 'category', 'order-item-code': 'category', 'merchant-order-item-id': 'category', 'merchant-adjustment-item-id': 'category', 'sku': 'category', 'quantity-purchased': 'int64', 'promotion-id': 'category'}\n"
     ]
    }
   ],
   "source": [
    "print(dtypes)"
   ]
  },
  {
   "cell_type": "code",
   "execution_count": null,
   "id": "31da475a",
   "metadata": {},
   "outputs": [],
   "source": []
  },
  {
   "cell_type": "code",
   "execution_count": null,
   "id": "5ee5ff0f",
   "metadata": {},
   "outputs": [],
   "source": []
  }
 ],
 "metadata": {
  "kernelspec": {
   "display_name": "Python 3 (ipykernel)",
   "language": "python",
   "name": "python3"
  },
  "language_info": {
   "codemirror_mode": {
    "name": "ipython",
    "version": 3
   },
   "file_extension": ".py",
   "mimetype": "text/x-python",
   "name": "python",
   "nbconvert_exporter": "python",
   "pygments_lexer": "ipython3",
   "version": "3.11.1"
  }
 },
 "nbformat": 4,
 "nbformat_minor": 5
}
